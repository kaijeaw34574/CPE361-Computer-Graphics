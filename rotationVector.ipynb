{
 "cells": [
  {
   "cell_type": "code",
   "execution_count": 1,
   "id": "8d6576fa",
   "metadata": {},
   "outputs": [
    {
     "name": "stdout",
     "output_type": "stream",
     "text": [
      "M_1 = [[ 1.00000000e+00  8.91792842e-18  1.83644357e-17  0.00000000e+00]\n",
      " [-2.19380278e-18  1.00000000e+00  5.55111512e-17 -4.44089210e-16]\n",
      " [-2.55943658e-18  0.00000000e+00  1.00000000e+00 -4.44089210e-16]\n",
      " [ 0.00000000e+00  0.00000000e+00  0.00000000e+00  1.00000000e+00]]\n",
      "M_2 = [[ 0.61363636 -0.44164234  0.6545246   0.34696275]\n",
      " [ 0.71436961  0.66363636 -0.22195232 -0.31210731]\n",
      " [-0.33634279  0.6037705   0.72272727  0.01969002]\n",
      " [ 0.          0.          0.          1.        ]]\n",
      "M_3 = [[-0.15909091 -0.16891507  0.97270642  0.71059911]\n",
      " [ 0.98709689 -0.00909091  0.15986586 -0.27574367]\n",
      " [-0.01816097  0.98558868  0.16818182 -0.27121907]\n",
      " [ 0.          0.          0.          1.        ]]\n",
      "M_4 = [[-0.54545455  0.54545455  0.63636364  0.72727273]\n",
      " [ 0.54545455 -0.34545455  0.76363636  0.07272727]\n",
      " [ 0.63636364  0.76363636 -0.10909091 -0.58181818]\n",
      " [ 0.          0.          0.          1.        ]]\n",
      "M_5 = [[-0.15909091  0.98709689 -0.01816097  0.38030998]\n",
      " [-0.16891507 -0.00909091  0.98558868  0.38483458]\n",
      " [ 0.97270642  0.15986586  0.16818182 -0.6015082 ]\n",
      " [ 0.          0.          0.          1.        ]]\n",
      "M_6 = [[ 0.61363636  0.71436961 -0.33634279  0.01667362]\n",
      " [-0.44164234  0.66363636  0.6037705   0.34847095]\n",
      " [ 0.6545246  -0.22195232  0.72272727 -0.31059911]\n",
      " [ 0.          0.          0.          1.        ]]\n"
     ]
    }
   ],
   "source": [
    "# Created by Pornthep Sangthongkhamsuk ID: 63070503431\n",
    "\n",
    "import numpy as np\n",
    "import math\n",
    "\n",
    "# Step 1: Translate object so that the axis rotates through the origin or point (0,0,0)\n",
    "T = np.array([[1, 0, 0, -2],\n",
    "              [0, 1, 0, -2],\n",
    "              [0, 0, 1, -2],\n",
    "              [0, 0, 0, 1]])\n",
    "\n",
    "# Step 2: Rotate object so that its axis of rotation is aligned with our main axis\n",
    "v = np.array([7, 8, 9])\n",
    "v_new = np.array([5, 6, 7])\n",
    "v_norm = math.sqrt(v_new[0]**2 + v_new[1]**2 + v_new[2]**2)\n",
    "u_vector = np.array([v_new[0]/v_norm, v_new[1]/v_norm, v_new[2]/v_norm])\n",
    "d =  math.sqrt(u_vector[1]**2 + u_vector[2]**2) # sqrt (b^2+c^2)\n",
    "\n",
    "Rx = np.array([[1, 0, 0, 0],\n",
    "               [0, u_vector[2]/d, -u_vector[1]/d ,0],\n",
    "               [0, u_vector[1]/d, u_vector[2]/d, 0],\n",
    "               [0, 0, 0, 1]])\n",
    "\n",
    "Ry = np.array([[d, 0, -u_vector[0], 0],\n",
    "               [0, 1, 0, 0],\n",
    "               [u_vector[0], 0, d, 0],\n",
    "               [0, 0, 0, 1]])\n",
    "\n",
    "# Step 3: Rotate object so that its axis of rotation coincides with the z-axis\n",
    "zeta = 60\n",
    "Rz = np.array([[np.cos(zeta), -np.sin(zeta), 0, 0],\n",
    "               [np.sin(zeta), np.cos(zeta), 0, 0],\n",
    "               [0, 0, 1, 0],\n",
    "               [0, 0, 0, 1]])\n",
    "\n",
    "# Step 4 and Step 5:: Do the inverse matrix of Ry, Rx and T Do the final transformation to move back to the original position\n",
    "Rx_inv = np.linalg.inv(Rx)\n",
    "Ry_inv = np.linalg.inv(Ry)\n",
    "T_inv = np.linalg.inv(T)\n",
    "\n",
    "# Rotation Matrix\n",
    "vertex = np.array([5, 10, 15, 1])\n",
    "hexagon = np.zeros((6, 4))\n",
    "\n",
    "for i in range(6):\n",
    "    zeta = i * 60\n",
    "    Rz_zeta = np.array([[np.cos(np.radians(zeta)), -np.sin(np.radians(zeta)), 0, 0],\n",
    "                   [np.sin(np.radians(zeta)), np.cos(np.radians(zeta)), 0, 0],\n",
    "                   [0, 0, 1, 0],\n",
    "                   [0, 0, 0, 1]])\n",
    "    M_i = np.dot(T_inv, np.dot(Rx_inv, np.dot(Ry_inv,np.dot(Rz_zeta, np.dot(Ry, np.dot(Rx, T))))))\n",
    "    hexagon[i] = np.dot(M_i, vertex)\n",
    "    print(f\"M_{i+1} = {M_i}\")"
   ]
  },
  {
   "cell_type": "code",
   "execution_count": 2,
   "id": "a8fe7dd6",
   "metadata": {},
   "outputs": [
    {
     "name": "stdout",
     "output_type": "stream",
     "text": [
      "Sol resul = [[ 5.         10.         15.          1.        ]\n",
      " [ 8.81659021  6.56681958 15.21659021  1.        ]\n",
      " [12.81659021  6.96681958 12.01659021  1.        ]\n",
      " [13.         10.8         8.6         1.        ]\n",
      " [ 9.18340979 14.23318042  8.38340979  1.        ]\n",
      " [ 5.18340979 13.83318042 11.58340979  1.        ]]\n"
     ]
    }
   ],
   "source": [
    "print(f\"Sol resul = {hexagon}\")"
   ]
  },
  {
   "cell_type": "code",
   "execution_count": 3,
   "id": "d70eb9ae",
   "metadata": {},
   "outputs": [
    {
     "data": {
      "image/png": "[encoded data removed]",
      "text/plain": [
       "<Figure size 432x288 with 1 Axes>"
      ]
     },
     "metadata": {
      "needs_background": "light"
     },
     "output_type": "display_data"
    }
   ],
   "source": [
    "import matplotlib.pyplot as plt\n",
    "import numpy as np\n",
    "from mpl_toolkits.mplot3d import Axes3D\n",
    "\n",
    "data = np.array([[ 5., 10., 15., 1. ],\n",
    "                 [ 8.81659021, 6.56681958, 15.21659021, 1. ],\n",
    "                 [12.81659021, 6.96681958, 12.01659021, 1.],\n",
    "                 [13., 10.8, 8.6, 1.],\n",
    "                 [ 9.18340979, 14.23318042, 8.38340979, 1. ],\n",
    "                 [ 5.18340979, 13.83318042, 11.58340979, 1.]])\n",
    "\n",
    "fig = plt.figure()\n",
    "ax = fig.add_subplot(111, projection='3d')\n",
    "\n",
    "# Plot the data points\n",
    "ax.scatter(data[:,0], data[:,1], data[:,2], c='r', marker='o')\n",
    "\n",
    "# Set the title and axis labels\n",
    "ax.set_title('Hexagon')\n",
    "ax.set_xlabel('X-axis')\n",
    "ax.set_ylabel('Y-axis')\n",
    "ax.set_zlabel('Z-axis')\n",
    "\n",
    "plt.show()\n"
   ]
  },
  {
   "cell_type": "code",
   "execution_count": null,
   "id": "64924630",
   "metadata": {},
   "outputs": [],
   "source": []
  }
 ],
 "metadata": {
  "kernelspec": {
   "display_name": "Python 3",
   "language": "python",
   "name": "python3"
  },
  "language_info": {
   "codemirror_mode": {
    "name": "ipython",
    "version": 3
   },
   "file_extension": ".py",
   "mimetype": "text/x-python",
   "name": "python",
   "nbconvert_exporter": "python",
   "pygments_lexer": "ipython3",
   "version": "3.8.8"
  }
 },
 "nbformat": 4,
 "nbformat_minor": 5
}
